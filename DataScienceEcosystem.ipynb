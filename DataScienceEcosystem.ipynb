{
 "cells": [
  {
   "cell_type": "markdown",
   "id": "99c1dd21-9f28-49a5-9b84-83662c9b5595",
   "metadata": {},
   "source": [
    "<h1>Data Science Tools and Ecosystem"
   ]
  },
  {
   "cell_type": "markdown",
   "id": "daff534d-2370-44fd-af7f-bebf05c9fb81",
   "metadata": {},
   "source": [
    "In this notebook, Data Science Tools and Ecosystem are summarized."
   ]
  },
  {
   "cell_type": "markdown",
   "id": "3862c3a6-6e01-46a2-a468-5d45d548a79c",
   "metadata": {},
   "source": [
    "**Objectives: How to create multiple markdown and code cells in a Python notebook.**\n",
    "<ul>\n",
    "    <li>List popular languages for Data Science</li>\n",
    "    <li>List commonly used libraries for Data Science</li>\n",
    "    <li>List Open Source Data Science tools</li>\n",
    "</ul>"
   ]
  },
  {
   "cell_type": "markdown",
   "id": "bd852957-512a-4da9-babe-a2ac73efda59",
   "metadata": {},
   "source": [
    "Some of the popular languages that Data Scientists use are:\n",
    "<ol>\n",
    "    <li>Python</li>\n",
    "    <li>R</li>\n",
    "    <li>SQL</li>\n",
    "    </ol>"
   ]
  },
  {
   "cell_type": "markdown",
   "id": "69447672-6b99-4d76-bf82-b3edc01683af",
   "metadata": {},
   "source": [
    "Some of the commonly used libraries used by Data Scientists include:\n",
    "<ol>\n",
    "    <li>Pandas</li>\n",
    "    <li>Numpy</li>\n",
    "    <li>Scipy</li>\n",
    "    </ol>"
   ]
  },
  {
   "cell_type": "markdown",
   "id": "9adab4ce-329a-473e-b6a5-764f2c7fa0e3",
   "metadata": {},
   "source": [
    "<table style=\"width:20%\">\n",
    "<tr>\n",
    "<th>Data Science Tools</th>\n",
    "</tr>\n",
    "\n",
    "<tr>\n",
    "<td>Jupyter Notebooks</td>\n",
    "</tr>\n",
    "\n",
    "<tr>\n",
    "<td>R Studio</td>\n",
    "</tr>\n",
    "    \n",
    "<tr>\n",
    "<td>TensorFlow</td>\n",
    "</tr>\n",
    "</table>"
   ]
  },
  {
   "cell_type": "markdown",
   "id": "52824280-2be9-4124-abdd-379716daf75e",
   "metadata": {},
   "source": [
    "<h3>Below are a few examples of evaluating arithmetic expressions in Python</h3>\n",
    "<br>\n",
    "Addition a+b\n",
    "<br>\n",
    "Subtraction a-b\n",
    "<br>\n",
    "Multiplication a*b"
   ]
  },
  {
   "cell_type": "code",
   "execution_count": 2,
   "id": "0b7390e7-0f34-44be-9b7b-e93cc3ccf7cb",
   "metadata": {},
   "outputs": [
    {
     "name": "stdout",
     "output_type": "stream",
     "text": [
      "17\n"
     ]
    }
   ],
   "source": [
    "# This a simple arithmetic expression to mutiply then add integers\n",
    "print((3*4)+5)"
   ]
  },
  {
   "cell_type": "code",
   "execution_count": 3,
   "id": "6e66acc9-b7c1-40ea-bb94-5d44133ec944",
   "metadata": {},
   "outputs": [
    {
     "name": "stdout",
     "output_type": "stream",
     "text": [
      "3.3333333333333335\n"
     ]
    }
   ],
   "source": [
    "# This will convert 200 minutes to hours by diving by 60\n",
    "print(200/60)"
   ]
  },
  {
   "cell_type": "markdown",
   "id": "b4bf06fd-9896-4381-ac71-c3ce6a70761a",
   "metadata": {},
   "source": [
    "<h2>Author</h2>\n",
    "<br>Radhika Agarwal"
   ]
  },
  {
   "cell_type": "code",
   "execution_count": null,
   "id": "0aef028b-e7e7-400b-9187-2833553e3d7f",
   "metadata": {},
   "outputs": [],
   "source": []
  }
 ],
 "metadata": {
  "kernelspec": {
   "display_name": "Python",
   "language": "python",
   "name": "conda-env-python-py"
  },
  "language_info": {
   "codemirror_mode": {
    "name": "ipython",
    "version": 3
   },
   "file_extension": ".py",
   "mimetype": "text/x-python",
   "name": "python",
   "nbconvert_exporter": "python",
   "pygments_lexer": "ipython3",
   "version": "3.7.12"
  }
 },
 "nbformat": 4,
 "nbformat_minor": 5
}
